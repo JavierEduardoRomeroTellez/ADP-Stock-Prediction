{
  "nbformat": 4,
  "nbformat_minor": 0,
  "metadata": {
    "colab": {
      "provenance": [],
      "include_colab_link": true
    },
    "kernelspec": {
      "name": "python3",
      "display_name": "Python 3"
    },
    "language_info": {
      "name": "python"
    }
  },
  "cells": [
    {
      "cell_type": "markdown",
      "metadata": {
        "id": "view-in-github",
        "colab_type": "text"
      },
      "source": [
        "<a href=\"https://colab.research.google.com/github/JavierEduardoRomeroTellez/ADP-Stock-Prediction/blob/main/ADP_Stock_Predict_Eng.ipynb\" target=\"_parent\"><img src=\"https://colab.research.google.com/assets/colab-badge.svg\" alt=\"Open In Colab\"/></a>"
      ]
    },
    {
      "cell_type": "markdown",
      "source": [
        "# Prediction of future values based on ADP Inc. stock market data.\n",
        "> Romero Tellez Javier Eduardo"
      ],
      "metadata": {
        "id": "A3sZW4CDmIMR"
      }
    },
    {
      "cell_type": "markdown",
      "source": [
        "## Preparation of the environment"
      ],
      "metadata": {
        "id": "Al1Qf8OdlqGX"
      }
    },
    {
      "cell_type": "markdown",
      "source": [
        "Import the libraries"
      ],
      "metadata": {
        "id": "mFvvGci9Myux"
      }
    },
    {
      "cell_type": "code",
      "execution_count": null,
      "metadata": {
        "id": "TOvAs1a-t9by"
      },
      "outputs": [],
      "source": [
        "import pandas as pd\n",
        "import numpy as np\n",
        "import matplotlib.pyplot as plt\n",
        "from sklearn.model_selection import train_test_split\n",
        "from sklearn.linear_model import LinearRegression\n",
        "from sklearn import metrics\n",
        "\n",
        "from math import sqrt"
      ]
    },
    {
      "cell_type": "markdown",
      "source": [
        "Import the dataset"
      ],
      "metadata": {
        "id": "L0OuXqdZPD_T"
      }
    },
    {
      "cell_type": "code",
      "source": [
        "data = pd.read_csv('ADP-Data.csv')"
      ],
      "metadata": {
        "id": "PmmWm5O09oSb"
      },
      "execution_count": null,
      "outputs": []
    },
    {
      "cell_type": "markdown",
      "source": [
        "## Exploratory analysis and data cleaning"
      ],
      "metadata": {
        "id": "7Fh2au3hnBsW"
      }
    },
    {
      "cell_type": "markdown",
      "source": [
        "Check for null data"
      ],
      "metadata": {
        "id": "DgEqiRjVPGL-"
      }
    },
    {
      "cell_type": "code",
      "source": [
        "data.isnull().sum()"
      ],
      "metadata": {
        "colab": {
          "base_uri": "https://localhost:8080/"
        },
        "id": "3huKr5Wd97Pj",
        "outputId": "6e23afd2-13c0-4771-81dd-eabd5d4125cb"
      },
      "execution_count": null,
      "outputs": [
        {
          "output_type": "execute_result",
          "data": {
            "text/plain": [
              "Unnamed: 0    0\n",
              "Date          0\n",
              "High          0\n",
              "Low           0\n",
              "Open          0\n",
              "Close         0\n",
              "Volume        0\n",
              "Adj Close     0\n",
              "dtype: int64"
            ]
          },
          "metadata": {},
          "execution_count": 123
        }
      ]
    },
    {
      "cell_type": "markdown",
      "source": [
        "As can be seen there is a column that isn't needed so let's delete it."
      ],
      "metadata": {
        "id": "NybY2T8EPnbx"
      }
    },
    {
      "cell_type": "code",
      "source": [
        "data.drop(['Unnamed: 0'], axis=1, inplace = True)"
      ],
      "metadata": {
        "id": "vWzCR6fdBjTd"
      },
      "execution_count": null,
      "outputs": []
    },
    {
      "cell_type": "markdown",
      "source": [
        "Verify that the date column is of type datetime"
      ],
      "metadata": {
        "id": "bM_56ZkMQxul"
      }
    },
    {
      "cell_type": "code",
      "source": [
        "data['Date'].head()"
      ],
      "metadata": {
        "colab": {
          "base_uri": "https://localhost:8080/"
        },
        "id": "yiBuYyBWQ-xP",
        "outputId": "324cf963-b671-4f26-fc40-bc3a293516a9"
      },
      "execution_count": null,
      "outputs": [
        {
          "output_type": "execute_result",
          "data": {
            "text/plain": [
              "0    1980-03-17\n",
              "1    1980-03-18\n",
              "2    1980-03-19\n",
              "3    1980-03-20\n",
              "4    1980-03-21\n",
              "Name: Date, dtype: object"
            ]
          },
          "metadata": {},
          "execution_count": 125
        }
      ]
    },
    {
      "cell_type": "markdown",
      "source": [
        "As it is an object type transform it to datetime type"
      ],
      "metadata": {
        "id": "2Va7ENzYRb1Y"
      }
    },
    {
      "cell_type": "code",
      "source": [
        "data['Date'] = pd.to_datetime(data['Date'])"
      ],
      "metadata": {
        "id": "3z5YgN6hCrru"
      },
      "execution_count": null,
      "outputs": []
    },
    {
      "cell_type": "markdown",
      "source": [
        "Verify that the change has been made"
      ],
      "metadata": {
        "id": "yunLXD0yRyDM"
      }
    },
    {
      "cell_type": "code",
      "source": [
        "data['Date'].head()"
      ],
      "metadata": {
        "colab": {
          "base_uri": "https://localhost:8080/"
        },
        "id": "L7wvFhJW-qpi",
        "outputId": "1f465cd3-c917-41a4-aeda-d2d321f63f8b"
      },
      "execution_count": null,
      "outputs": [
        {
          "output_type": "execute_result",
          "data": {
            "text/plain": [
              "0   1980-03-17\n",
              "1   1980-03-18\n",
              "2   1980-03-19\n",
              "3   1980-03-20\n",
              "4   1980-03-21\n",
              "Name: Date, dtype: datetime64[ns]"
            ]
          },
          "metadata": {},
          "execution_count": 127
        }
      ]
    },
    {
      "cell_type": "markdown",
      "source": [
        "Now describe the numerical data to see how it behaves"
      ],
      "metadata": {
        "id": "ughqdqH5hoQn"
      }
    },
    {
      "cell_type": "code",
      "source": [
        "data.select_dtypes('number').describe()"
      ],
      "metadata": {
        "colab": {
          "base_uri": "https://localhost:8080/",
          "height": 301
        },
        "id": "Tvn0umJfh3_K",
        "outputId": "3167a04e-4d76-4f63-b635-49aa4aa40bb3"
      },
      "execution_count": null,
      "outputs": [
        {
          "output_type": "execute_result",
          "data": {
            "text/plain": [
              "               High           Low          Open         Close        Volume  \\\n",
              "count  10752.000000  10752.000000  10752.000000  10752.000000  1.075200e+04   \n",
              "mean      45.513600     44.666703     44.896936     45.118323  2.063540e+06   \n",
              "std       53.810046     52.828649     53.398649     53.349075  1.417562e+06   \n",
              "min        0.927141      0.908554      0.000000      0.911652  8.070100e+03   \n",
              "25%        5.552316      5.462476      5.415141      5.527532  1.196101e+06   \n",
              "50%       33.055778     32.219095     32.515629     32.714761  1.758100e+06   \n",
              "75%       49.033276     48.300176     48.529410     48.728345  2.552245e+06   \n",
              "max      261.689996    259.649988    260.369995    261.040002  3.133089e+07   \n",
              "\n",
              "          Adj Close  \n",
              "count  10752.000000  \n",
              "mean      37.623797  \n",
              "std       52.196452  \n",
              "min        0.517667  \n",
              "25%        3.176103  \n",
              "50%       21.508132  \n",
              "75%       37.441774  \n",
              "max      259.917322  "
            ],
            "text/html": [
              "\n",
              "  <div id=\"df-97d15223-4778-497b-8e1e-7e9272d6658e\">\n",
              "    <div class=\"colab-df-container\">\n",
              "      <div>\n",
              "<style scoped>\n",
              "    .dataframe tbody tr th:only-of-type {\n",
              "        vertical-align: middle;\n",
              "    }\n",
              "\n",
              "    .dataframe tbody tr th {\n",
              "        vertical-align: top;\n",
              "    }\n",
              "\n",
              "    .dataframe thead th {\n",
              "        text-align: right;\n",
              "    }\n",
              "</style>\n",
              "<table border=\"1\" class=\"dataframe\">\n",
              "  <thead>\n",
              "    <tr style=\"text-align: right;\">\n",
              "      <th></th>\n",
              "      <th>High</th>\n",
              "      <th>Low</th>\n",
              "      <th>Open</th>\n",
              "      <th>Close</th>\n",
              "      <th>Volume</th>\n",
              "      <th>Adj Close</th>\n",
              "    </tr>\n",
              "  </thead>\n",
              "  <tbody>\n",
              "    <tr>\n",
              "      <th>count</th>\n",
              "      <td>10752.000000</td>\n",
              "      <td>10752.000000</td>\n",
              "      <td>10752.000000</td>\n",
              "      <td>10752.000000</td>\n",
              "      <td>1.075200e+04</td>\n",
              "      <td>10752.000000</td>\n",
              "    </tr>\n",
              "    <tr>\n",
              "      <th>mean</th>\n",
              "      <td>45.513600</td>\n",
              "      <td>44.666703</td>\n",
              "      <td>44.896936</td>\n",
              "      <td>45.118323</td>\n",
              "      <td>2.063540e+06</td>\n",
              "      <td>37.623797</td>\n",
              "    </tr>\n",
              "    <tr>\n",
              "      <th>std</th>\n",
              "      <td>53.810046</td>\n",
              "      <td>52.828649</td>\n",
              "      <td>53.398649</td>\n",
              "      <td>53.349075</td>\n",
              "      <td>1.417562e+06</td>\n",
              "      <td>52.196452</td>\n",
              "    </tr>\n",
              "    <tr>\n",
              "      <th>min</th>\n",
              "      <td>0.927141</td>\n",
              "      <td>0.908554</td>\n",
              "      <td>0.000000</td>\n",
              "      <td>0.911652</td>\n",
              "      <td>8.070100e+03</td>\n",
              "      <td>0.517667</td>\n",
              "    </tr>\n",
              "    <tr>\n",
              "      <th>25%</th>\n",
              "      <td>5.552316</td>\n",
              "      <td>5.462476</td>\n",
              "      <td>5.415141</td>\n",
              "      <td>5.527532</td>\n",
              "      <td>1.196101e+06</td>\n",
              "      <td>3.176103</td>\n",
              "    </tr>\n",
              "    <tr>\n",
              "      <th>50%</th>\n",
              "      <td>33.055778</td>\n",
              "      <td>32.219095</td>\n",
              "      <td>32.515629</td>\n",
              "      <td>32.714761</td>\n",
              "      <td>1.758100e+06</td>\n",
              "      <td>21.508132</td>\n",
              "    </tr>\n",
              "    <tr>\n",
              "      <th>75%</th>\n",
              "      <td>49.033276</td>\n",
              "      <td>48.300176</td>\n",
              "      <td>48.529410</td>\n",
              "      <td>48.728345</td>\n",
              "      <td>2.552245e+06</td>\n",
              "      <td>37.441774</td>\n",
              "    </tr>\n",
              "    <tr>\n",
              "      <th>max</th>\n",
              "      <td>261.689996</td>\n",
              "      <td>259.649988</td>\n",
              "      <td>260.369995</td>\n",
              "      <td>261.040002</td>\n",
              "      <td>3.133089e+07</td>\n",
              "      <td>259.917322</td>\n",
              "    </tr>\n",
              "  </tbody>\n",
              "</table>\n",
              "</div>\n",
              "      <button class=\"colab-df-convert\" onclick=\"convertToInteractive('df-97d15223-4778-497b-8e1e-7e9272d6658e')\"\n",
              "              title=\"Convert this dataframe to an interactive table.\"\n",
              "              style=\"display:none;\">\n",
              "        \n",
              "  <svg xmlns=\"http://www.w3.org/2000/svg\" height=\"24px\"viewBox=\"0 0 24 24\"\n",
              "       width=\"24px\">\n",
              "    <path d=\"M0 0h24v24H0V0z\" fill=\"none\"/>\n",
              "    <path d=\"M18.56 5.44l.94 2.06.94-2.06 2.06-.94-2.06-.94-.94-2.06-.94 2.06-2.06.94zm-11 1L8.5 8.5l.94-2.06 2.06-.94-2.06-.94L8.5 2.5l-.94 2.06-2.06.94zm10 10l.94 2.06.94-2.06 2.06-.94-2.06-.94-.94-2.06-.94 2.06-2.06.94z\"/><path d=\"M17.41 7.96l-1.37-1.37c-.4-.4-.92-.59-1.43-.59-.52 0-1.04.2-1.43.59L10.3 9.45l-7.72 7.72c-.78.78-.78 2.05 0 2.83L4 21.41c.39.39.9.59 1.41.59.51 0 1.02-.2 1.41-.59l7.78-7.78 2.81-2.81c.8-.78.8-2.07 0-2.86zM5.41 20L4 18.59l7.72-7.72 1.47 1.35L5.41 20z\"/>\n",
              "  </svg>\n",
              "      </button>\n",
              "      \n",
              "  <style>\n",
              "    .colab-df-container {\n",
              "      display:flex;\n",
              "      flex-wrap:wrap;\n",
              "      gap: 12px;\n",
              "    }\n",
              "\n",
              "    .colab-df-convert {\n",
              "      background-color: #E8F0FE;\n",
              "      border: none;\n",
              "      border-radius: 50%;\n",
              "      cursor: pointer;\n",
              "      display: none;\n",
              "      fill: #1967D2;\n",
              "      height: 32px;\n",
              "      padding: 0 0 0 0;\n",
              "      width: 32px;\n",
              "    }\n",
              "\n",
              "    .colab-df-convert:hover {\n",
              "      background-color: #E2EBFA;\n",
              "      box-shadow: 0px 1px 2px rgba(60, 64, 67, 0.3), 0px 1px 3px 1px rgba(60, 64, 67, 0.15);\n",
              "      fill: #174EA6;\n",
              "    }\n",
              "\n",
              "    [theme=dark] .colab-df-convert {\n",
              "      background-color: #3B4455;\n",
              "      fill: #D2E3FC;\n",
              "    }\n",
              "\n",
              "    [theme=dark] .colab-df-convert:hover {\n",
              "      background-color: #434B5C;\n",
              "      box-shadow: 0px 1px 3px 1px rgba(0, 0, 0, 0.15);\n",
              "      filter: drop-shadow(0px 1px 2px rgba(0, 0, 0, 0.3));\n",
              "      fill: #FFFFFF;\n",
              "    }\n",
              "  </style>\n",
              "\n",
              "      <script>\n",
              "        const buttonEl =\n",
              "          document.querySelector('#df-97d15223-4778-497b-8e1e-7e9272d6658e button.colab-df-convert');\n",
              "        buttonEl.style.display =\n",
              "          google.colab.kernel.accessAllowed ? 'block' : 'none';\n",
              "\n",
              "        async function convertToInteractive(key) {\n",
              "          const element = document.querySelector('#df-97d15223-4778-497b-8e1e-7e9272d6658e');\n",
              "          const dataTable =\n",
              "            await google.colab.kernel.invokeFunction('convertToInteractive',\n",
              "                                                     [key], {});\n",
              "          if (!dataTable) return;\n",
              "\n",
              "          const docLinkHtml = 'Like what you see? Visit the ' +\n",
              "            '<a target=\"_blank\" href=https://colab.research.google.com/notebooks/data_table.ipynb>data table notebook</a>'\n",
              "            + ' to learn more about interactive tables.';\n",
              "          element.innerHTML = '';\n",
              "          dataTable['output_type'] = 'display_data';\n",
              "          await google.colab.output.renderOutput(dataTable, element);\n",
              "          const docLink = document.createElement('div');\n",
              "          docLink.innerHTML = docLinkHtml;\n",
              "          element.appendChild(docLink);\n",
              "        }\n",
              "      </script>\n",
              "    </div>\n",
              "  </div>\n",
              "  "
            ]
          },
          "metadata": {},
          "execution_count": 128
        }
      ]
    },
    {
      "cell_type": "markdown",
      "source": [
        "As can be seen the Open minimum is 0 which is not a valid value so let's clean up those 0's"
      ],
      "metadata": {
        "id": "fzObRX1_h-it"
      }
    },
    {
      "cell_type": "code",
      "source": [
        "data = data[data['Open'] != 0].reset_index(drop=True)"
      ],
      "metadata": {
        "id": "KoWY1z_AiKJL"
      },
      "execution_count": null,
      "outputs": []
    },
    {
      "cell_type": "markdown",
      "source": [
        "Now, in order to see how the data behave, let's look at the correlation between them."
      ],
      "metadata": {
        "id": "rUzs9dKUiSJa"
      }
    },
    {
      "cell_type": "code",
      "source": [
        "data.corr()"
      ],
      "metadata": {
        "colab": {
          "base_uri": "https://localhost:8080/",
          "height": 238
        },
        "id": "OtBgaqvuiYhb",
        "outputId": "8f5dd718-3f55-4f2b-e31a-02e68c6f9116"
      },
      "execution_count": null,
      "outputs": [
        {
          "output_type": "execute_result",
          "data": {
            "text/plain": [
              "               High       Low      Open     Close    Volume  Adj Close\n",
              "High       1.000000  0.999878  0.999927  0.999924  0.032095   0.996287\n",
              "Low        0.999878  1.000000  0.999913  0.999917  0.027961   0.996231\n",
              "Open       0.999927  0.999913  1.000000  0.999844  0.030008   0.996186\n",
              "Close      0.999924  0.999917  0.999844  1.000000  0.030142   0.996333\n",
              "Volume     0.032095  0.027961  0.030008  0.030142  1.000000   0.011046\n",
              "Adj Close  0.996287  0.996231  0.996186  0.996333  0.011046   1.000000"
            ],
            "text/html": [
              "\n",
              "  <div id=\"df-300e0a36-d2f6-408e-acc3-49d7614dfa79\">\n",
              "    <div class=\"colab-df-container\">\n",
              "      <div>\n",
              "<style scoped>\n",
              "    .dataframe tbody tr th:only-of-type {\n",
              "        vertical-align: middle;\n",
              "    }\n",
              "\n",
              "    .dataframe tbody tr th {\n",
              "        vertical-align: top;\n",
              "    }\n",
              "\n",
              "    .dataframe thead th {\n",
              "        text-align: right;\n",
              "    }\n",
              "</style>\n",
              "<table border=\"1\" class=\"dataframe\">\n",
              "  <thead>\n",
              "    <tr style=\"text-align: right;\">\n",
              "      <th></th>\n",
              "      <th>High</th>\n",
              "      <th>Low</th>\n",
              "      <th>Open</th>\n",
              "      <th>Close</th>\n",
              "      <th>Volume</th>\n",
              "      <th>Adj Close</th>\n",
              "    </tr>\n",
              "  </thead>\n",
              "  <tbody>\n",
              "    <tr>\n",
              "      <th>High</th>\n",
              "      <td>1.000000</td>\n",
              "      <td>0.999878</td>\n",
              "      <td>0.999927</td>\n",
              "      <td>0.999924</td>\n",
              "      <td>0.032095</td>\n",
              "      <td>0.996287</td>\n",
              "    </tr>\n",
              "    <tr>\n",
              "      <th>Low</th>\n",
              "      <td>0.999878</td>\n",
              "      <td>1.000000</td>\n",
              "      <td>0.999913</td>\n",
              "      <td>0.999917</td>\n",
              "      <td>0.027961</td>\n",
              "      <td>0.996231</td>\n",
              "    </tr>\n",
              "    <tr>\n",
              "      <th>Open</th>\n",
              "      <td>0.999927</td>\n",
              "      <td>0.999913</td>\n",
              "      <td>1.000000</td>\n",
              "      <td>0.999844</td>\n",
              "      <td>0.030008</td>\n",
              "      <td>0.996186</td>\n",
              "    </tr>\n",
              "    <tr>\n",
              "      <th>Close</th>\n",
              "      <td>0.999924</td>\n",
              "      <td>0.999917</td>\n",
              "      <td>0.999844</td>\n",
              "      <td>1.000000</td>\n",
              "      <td>0.030142</td>\n",
              "      <td>0.996333</td>\n",
              "    </tr>\n",
              "    <tr>\n",
              "      <th>Volume</th>\n",
              "      <td>0.032095</td>\n",
              "      <td>0.027961</td>\n",
              "      <td>0.030008</td>\n",
              "      <td>0.030142</td>\n",
              "      <td>1.000000</td>\n",
              "      <td>0.011046</td>\n",
              "    </tr>\n",
              "    <tr>\n",
              "      <th>Adj Close</th>\n",
              "      <td>0.996287</td>\n",
              "      <td>0.996231</td>\n",
              "      <td>0.996186</td>\n",
              "      <td>0.996333</td>\n",
              "      <td>0.011046</td>\n",
              "      <td>1.000000</td>\n",
              "    </tr>\n",
              "  </tbody>\n",
              "</table>\n",
              "</div>\n",
              "      <button class=\"colab-df-convert\" onclick=\"convertToInteractive('df-300e0a36-d2f6-408e-acc3-49d7614dfa79')\"\n",
              "              title=\"Convert this dataframe to an interactive table.\"\n",
              "              style=\"display:none;\">\n",
              "        \n",
              "  <svg xmlns=\"http://www.w3.org/2000/svg\" height=\"24px\"viewBox=\"0 0 24 24\"\n",
              "       width=\"24px\">\n",
              "    <path d=\"M0 0h24v24H0V0z\" fill=\"none\"/>\n",
              "    <path d=\"M18.56 5.44l.94 2.06.94-2.06 2.06-.94-2.06-.94-.94-2.06-.94 2.06-2.06.94zm-11 1L8.5 8.5l.94-2.06 2.06-.94-2.06-.94L8.5 2.5l-.94 2.06-2.06.94zm10 10l.94 2.06.94-2.06 2.06-.94-2.06-.94-.94-2.06-.94 2.06-2.06.94z\"/><path d=\"M17.41 7.96l-1.37-1.37c-.4-.4-.92-.59-1.43-.59-.52 0-1.04.2-1.43.59L10.3 9.45l-7.72 7.72c-.78.78-.78 2.05 0 2.83L4 21.41c.39.39.9.59 1.41.59.51 0 1.02-.2 1.41-.59l7.78-7.78 2.81-2.81c.8-.78.8-2.07 0-2.86zM5.41 20L4 18.59l7.72-7.72 1.47 1.35L5.41 20z\"/>\n",
              "  </svg>\n",
              "      </button>\n",
              "      \n",
              "  <style>\n",
              "    .colab-df-container {\n",
              "      display:flex;\n",
              "      flex-wrap:wrap;\n",
              "      gap: 12px;\n",
              "    }\n",
              "\n",
              "    .colab-df-convert {\n",
              "      background-color: #E8F0FE;\n",
              "      border: none;\n",
              "      border-radius: 50%;\n",
              "      cursor: pointer;\n",
              "      display: none;\n",
              "      fill: #1967D2;\n",
              "      height: 32px;\n",
              "      padding: 0 0 0 0;\n",
              "      width: 32px;\n",
              "    }\n",
              "\n",
              "    .colab-df-convert:hover {\n",
              "      background-color: #E2EBFA;\n",
              "      box-shadow: 0px 1px 2px rgba(60, 64, 67, 0.3), 0px 1px 3px 1px rgba(60, 64, 67, 0.15);\n",
              "      fill: #174EA6;\n",
              "    }\n",
              "\n",
              "    [theme=dark] .colab-df-convert {\n",
              "      background-color: #3B4455;\n",
              "      fill: #D2E3FC;\n",
              "    }\n",
              "\n",
              "    [theme=dark] .colab-df-convert:hover {\n",
              "      background-color: #434B5C;\n",
              "      box-shadow: 0px 1px 3px 1px rgba(0, 0, 0, 0.15);\n",
              "      filter: drop-shadow(0px 1px 2px rgba(0, 0, 0, 0.3));\n",
              "      fill: #FFFFFF;\n",
              "    }\n",
              "  </style>\n",
              "\n",
              "      <script>\n",
              "        const buttonEl =\n",
              "          document.querySelector('#df-300e0a36-d2f6-408e-acc3-49d7614dfa79 button.colab-df-convert');\n",
              "        buttonEl.style.display =\n",
              "          google.colab.kernel.accessAllowed ? 'block' : 'none';\n",
              "\n",
              "        async function convertToInteractive(key) {\n",
              "          const element = document.querySelector('#df-300e0a36-d2f6-408e-acc3-49d7614dfa79');\n",
              "          const dataTable =\n",
              "            await google.colab.kernel.invokeFunction('convertToInteractive',\n",
              "                                                     [key], {});\n",
              "          if (!dataTable) return;\n",
              "\n",
              "          const docLinkHtml = 'Like what you see? Visit the ' +\n",
              "            '<a target=\"_blank\" href=https://colab.research.google.com/notebooks/data_table.ipynb>data table notebook</a>'\n",
              "            + ' to learn more about interactive tables.';\n",
              "          element.innerHTML = '';\n",
              "          dataTable['output_type'] = 'display_data';\n",
              "          await google.colab.output.renderOutput(dataTable, element);\n",
              "          const docLink = document.createElement('div');\n",
              "          docLink.innerHTML = docLinkHtml;\n",
              "          element.appendChild(docLink);\n",
              "        }\n",
              "      </script>\n",
              "    </div>\n",
              "  </div>\n",
              "  "
            ]
          },
          "metadata": {},
          "execution_count": 130
        }
      ]
    },
    {
      "cell_type": "markdown",
      "source": [
        "Now using matplot it is possible visualize the comparison between the highest and lowest values."
      ],
      "metadata": {
        "id": "DOrJkkT4SBoY"
      }
    },
    {
      "cell_type": "code",
      "source": [
        "plt.figure(figsize=(25,10))\n",
        "plt.plot(data['Date'],data['Low'],color='red',label='Bajos')\n",
        "plt.plot(data['Date'],data['High'],color='green',label='Altos')\n",
        "plt.title('Comparacion de altos y bajos')\n",
        "plt.xlabel('Año')\n",
        "plt.ylabel('Valor')\n",
        "plt.legend()\n",
        "plt.show()"
      ],
      "metadata": {
        "colab": {
          "base_uri": "https://localhost:8080/",
          "height": 621
        },
        "id": "MZFHShMf_JZQ",
        "outputId": "0a1a3421-0116-4811-8bfe-1cd8b9a19f0b"
      },
      "execution_count": null,
      "outputs": [
        {
          "output_type": "display_data",
          "data": {
            "text/plain": [
              "<Figure size 1800x720 with 1 Axes>"
            ],
            "image/png": "[encoded data removed]"
          },
          "metadata": {
            "needs_background": "light"
          }
        }
      ]
    },
    {
      "cell_type": "markdown",
      "source": [
        "Can also see the comparison between the opening and closing value"
      ],
      "metadata": {
        "id": "kSB4vTjOSLzF"
      }
    },
    {
      "cell_type": "code",
      "source": [
        "plt.figure(figsize=(25,10))\n",
        "plt.plot(data['Date'],data['Open'],color='red',label='Apertura')\n",
        "plt.plot(data['Date'],data['Close'],color='blue',label='Cierre')\n",
        "plt.title('Comparacion de apertura y cierre')\n",
        "plt.xlabel('Año')\n",
        "plt.ylabel('Valor')\n",
        "plt.legend()\n",
        "plt.show()"
      ],
      "metadata": {
        "colab": {
          "base_uri": "https://localhost:8080/",
          "height": 621
        },
        "id": "rvMH0J0GAFub",
        "outputId": "59418965-58de-41b5-dd1a-9141c14b4da0"
      },
      "execution_count": null,
      "outputs": [
        {
          "output_type": "display_data",
          "data": {
            "text/plain": [
              "<Figure size 1800x720 with 1 Axes>"
            ],
            "image/png": "[encoded data removed]"
          },
          "metadata": {
            "needs_background": "light"
          }
        }
      ]
    },
    {
      "cell_type": "markdown",
      "source": [
        "Can observe the trend of the value after adjustment over time."
      ],
      "metadata": {
        "id": "oDEnCqCVTSfG"
      }
    },
    {
      "cell_type": "code",
      "source": [
        "plt.figure(figsize=(25,10))\n",
        "plt.plot(data['Date'],data['Adj Close'],color='blue')\n",
        "plt.title('Valor de cierre por año')\n",
        "plt.xlabel('Año')\n",
        "plt.ylabel('Valor')\n",
        "plt.legend()\n",
        "plt.show()"
      ],
      "metadata": {
        "colab": {
          "base_uri": "https://localhost:8080/",
          "height": 638
        },
        "id": "bXIUeBN0BcVa",
        "outputId": "e44fcc6e-70b7-4ec2-9af1-af1f2d497759"
      },
      "execution_count": null,
      "outputs": [
        {
          "output_type": "stream",
          "name": "stderr",
          "text": [
            "WARNING:matplotlib.legend:No handles with labels found to put in legend.\n"
          ]
        },
        {
          "output_type": "display_data",
          "data": {
            "text/plain": [
              "<Figure size 1800x720 with 1 Axes>"
            ],
            "image/png": "[encoded data removed]"
          },
          "metadata": {
            "needs_background": "light"
          }
        }
      ]
    },
    {
      "cell_type": "markdown",
      "source": [
        "## Model training"
      ],
      "metadata": {
        "id": "DWcdJnzxnTiF"
      }
    },
    {
      "cell_type": "markdown",
      "source": [
        "Begin by separating the independent variables from the independent variable into x and y respectively"
      ],
      "metadata": {
        "id": "HBag2mE_n1s0"
      }
    },
    {
      "cell_type": "code",
      "source": [
        "Y = data['Adj Close']\n",
        "X = data.drop(['Date', 'Adj Close'], axis=1)"
      ],
      "metadata": {
        "id": "Ohx3wwjFE1sa"
      },
      "execution_count": null,
      "outputs": []
    },
    {
      "cell_type": "markdown",
      "source": [
        "Then split the data into training and test data with a ratio of 80/20."
      ],
      "metadata": {
        "id": "Hz_9Z125oG5S"
      }
    },
    {
      "cell_type": "code",
      "source": [
        "X_train, X_test, Y_train, Y_test = train_test_split(X, Y, test_size=0.2, random_state=2)"
      ],
      "metadata": {
        "id": "8805u-XjFI8c"
      },
      "execution_count": null,
      "outputs": []
    },
    {
      "cell_type": "markdown",
      "source": [
        "Create the model"
      ],
      "metadata": {
        "id": "mwwjGUaRomkT"
      }
    },
    {
      "cell_type": "code",
      "source": [
        "LR = LinearRegression()"
      ],
      "metadata": {
        "id": "3EPDLpV2FOqt"
      },
      "execution_count": null,
      "outputs": []
    },
    {
      "cell_type": "markdown",
      "source": [
        "Fit it using the training data"
      ],
      "metadata": {
        "id": "rYYJ9DVYookP"
      }
    },
    {
      "cell_type": "code",
      "source": [
        "LR.fit(X_train, Y_train)"
      ],
      "metadata": {
        "colab": {
          "base_uri": "https://localhost:8080/"
        },
        "id": "JFvAvc05FSbD",
        "outputId": "732a17b3-9954-4dd3-83f8-c9fec4a89ca2"
      },
      "execution_count": null,
      "outputs": [
        {
          "output_type": "execute_result",
          "data": {
            "text/plain": [
              "LinearRegression()"
            ]
          },
          "metadata": {},
          "execution_count": 137
        }
      ]
    },
    {
      "cell_type": "markdown",
      "source": [
        "Make the prediction using the `predict()` method and check the score it returns."
      ],
      "metadata": {
        "id": "YFmvXevZorLo"
      }
    },
    {
      "cell_type": "code",
      "source": [
        "y_train_pred = LR.predict(X_train)\n",
        "y_test_pred = LR.predict(X_test)\n",
        "\n",
        "print('Rendimiento con los datos de prueba: ', LR.score(X_test, Y_test))\n",
        "print('Rendimiento con los datos de entrenamiento: ', LR.score(X_train, Y_train))"
      ],
      "metadata": {
        "colab": {
          "base_uri": "https://localhost:8080/"
        },
        "id": "ogWFHZ_QFfIX",
        "outputId": "59f18144-a919-453a-ebe2-bc00c079f45c"
      },
      "execution_count": null,
      "outputs": [
        {
          "output_type": "stream",
          "name": "stdout",
          "text": [
            "Rendimiento con los datos de prueba:  0.9933138774677994\n",
            "Rendimiento con los datos de entrenamiento:  0.9930609621832346\n"
          ]
        }
      ]
    },
    {
      "cell_type": "markdown",
      "source": [
        "Then in order to visually compare how well the prediction does, put in a dataframe the actual data and the data that was predicted for the test data case."
      ],
      "metadata": {
        "id": "ULzKhRS-o-9r"
      }
    },
    {
      "cell_type": "code",
      "source": [
        "results = pd.DataFrame({'Real': Y_test, 'Predicted':y_test_pred })"
      ],
      "metadata": {
        "id": "k2lM0zbcHA44"
      },
      "execution_count": null,
      "outputs": []
    },
    {
      "cell_type": "code",
      "source": [
        "results"
      ],
      "metadata": {
        "colab": {
          "base_uri": "https://localhost:8080/",
          "height": 424
        },
        "id": "_hEj6ycPICSK",
        "outputId": "67a5dfe7-3d9d-43b1-feb9-ecbf4e6b6385"
      },
      "execution_count": null,
      "outputs": [
        {
          "output_type": "execute_result",
          "data": {
            "text/plain": [
              "            Real   Predicted\n",
              "9043  139.238748  140.556141\n",
              "7458   40.891508   43.132138\n",
              "9559  174.691324  171.328509\n",
              "338     1.079064   -7.552559\n",
              "1656    2.772972   -1.432062\n",
              "...          ...         ...\n",
              "537     1.311497   -4.776272\n",
              "741     1.948591   -4.129657\n",
              "4565   27.044893   35.760596\n",
              "5619   22.263605   26.095030\n",
              "5745   24.305770   28.698941\n",
              "\n",
              "[1996 rows x 2 columns]"
            ],
            "text/html": [
              "\n",
              "  <div id=\"df-1563244e-6483-4875-b93a-46e5bf214aea\">\n",
              "    <div class=\"colab-df-container\">\n",
              "      <div>\n",
              "<style scoped>\n",
              "    .dataframe tbody tr th:only-of-type {\n",
              "        vertical-align: middle;\n",
              "    }\n",
              "\n",
              "    .dataframe tbody tr th {\n",
              "        vertical-align: top;\n",
              "    }\n",
              "\n",
              "    .dataframe thead th {\n",
              "        text-align: right;\n",
              "    }\n",
              "</style>\n",
              "<table border=\"1\" class=\"dataframe\">\n",
              "  <thead>\n",
              "    <tr style=\"text-align: right;\">\n",
              "      <th></th>\n",
              "      <th>Real</th>\n",
              "      <th>Predicted</th>\n",
              "    </tr>\n",
              "  </thead>\n",
              "  <tbody>\n",
              "    <tr>\n",
              "      <th>9043</th>\n",
              "      <td>139.238748</td>\n",
              "      <td>140.556141</td>\n",
              "    </tr>\n",
              "    <tr>\n",
              "      <th>7458</th>\n",
              "      <td>40.891508</td>\n",
              "      <td>43.132138</td>\n",
              "    </tr>\n",
              "    <tr>\n",
              "      <th>9559</th>\n",
              "      <td>174.691324</td>\n",
              "      <td>171.328509</td>\n",
              "    </tr>\n",
              "    <tr>\n",
              "      <th>338</th>\n",
              "      <td>1.079064</td>\n",
              "      <td>-7.552559</td>\n",
              "    </tr>\n",
              "    <tr>\n",
              "      <th>1656</th>\n",
              "      <td>2.772972</td>\n",
              "      <td>-1.432062</td>\n",
              "    </tr>\n",
              "    <tr>\n",
              "      <th>...</th>\n",
              "      <td>...</td>\n",
              "      <td>...</td>\n",
              "    </tr>\n",
              "    <tr>\n",
              "      <th>537</th>\n",
              "      <td>1.311497</td>\n",
              "      <td>-4.776272</td>\n",
              "    </tr>\n",
              "    <tr>\n",
              "      <th>741</th>\n",
              "      <td>1.948591</td>\n",
              "      <td>-4.129657</td>\n",
              "    </tr>\n",
              "    <tr>\n",
              "      <th>4565</th>\n",
              "      <td>27.044893</td>\n",
              "      <td>35.760596</td>\n",
              "    </tr>\n",
              "    <tr>\n",
              "      <th>5619</th>\n",
              "      <td>22.263605</td>\n",
              "      <td>26.095030</td>\n",
              "    </tr>\n",
              "    <tr>\n",
              "      <th>5745</th>\n",
              "      <td>24.305770</td>\n",
              "      <td>28.698941</td>\n",
              "    </tr>\n",
              "  </tbody>\n",
              "</table>\n",
              "<p>1996 rows × 2 columns</p>\n",
              "</div>\n",
              "      <button class=\"colab-df-convert\" onclick=\"convertToInteractive('df-1563244e-6483-4875-b93a-46e5bf214aea')\"\n",
              "              title=\"Convert this dataframe to an interactive table.\"\n",
              "              style=\"display:none;\">\n",
              "        \n",
              "  <svg xmlns=\"http://www.w3.org/2000/svg\" height=\"24px\"viewBox=\"0 0 24 24\"\n",
              "       width=\"24px\">\n",
              "    <path d=\"M0 0h24v24H0V0z\" fill=\"none\"/>\n",
              "    <path d=\"M18.56 5.44l.94 2.06.94-2.06 2.06-.94-2.06-.94-.94-2.06-.94 2.06-2.06.94zm-11 1L8.5 8.5l.94-2.06 2.06-.94-2.06-.94L8.5 2.5l-.94 2.06-2.06.94zm10 10l.94 2.06.94-2.06 2.06-.94-2.06-.94-.94-2.06-.94 2.06-2.06.94z\"/><path d=\"M17.41 7.96l-1.37-1.37c-.4-.4-.92-.59-1.43-.59-.52 0-1.04.2-1.43.59L10.3 9.45l-7.72 7.72c-.78.78-.78 2.05 0 2.83L4 21.41c.39.39.9.59 1.41.59.51 0 1.02-.2 1.41-.59l7.78-7.78 2.81-2.81c.8-.78.8-2.07 0-2.86zM5.41 20L4 18.59l7.72-7.72 1.47 1.35L5.41 20z\"/>\n",
              "  </svg>\n",
              "      </button>\n",
              "      \n",
              "  <style>\n",
              "    .colab-df-container {\n",
              "      display:flex;\n",
              "      flex-wrap:wrap;\n",
              "      gap: 12px;\n",
              "    }\n",
              "\n",
              "    .colab-df-convert {\n",
              "      background-color: #E8F0FE;\n",
              "      border: none;\n",
              "      border-radius: 50%;\n",
              "      cursor: pointer;\n",
              "      display: none;\n",
              "      fill: #1967D2;\n",
              "      height: 32px;\n",
              "      padding: 0 0 0 0;\n",
              "      width: 32px;\n",
              "    }\n",
              "\n",
              "    .colab-df-convert:hover {\n",
              "      background-color: #E2EBFA;\n",
              "      box-shadow: 0px 1px 2px rgba(60, 64, 67, 0.3), 0px 1px 3px 1px rgba(60, 64, 67, 0.15);\n",
              "      fill: #174EA6;\n",
              "    }\n",
              "\n",
              "    [theme=dark] .colab-df-convert {\n",
              "      background-color: #3B4455;\n",
              "      fill: #D2E3FC;\n",
              "    }\n",
              "\n",
              "    [theme=dark] .colab-df-convert:hover {\n",
              "      background-color: #434B5C;\n",
              "      box-shadow: 0px 1px 3px 1px rgba(0, 0, 0, 0.15);\n",
              "      filter: drop-shadow(0px 1px 2px rgba(0, 0, 0, 0.3));\n",
              "      fill: #FFFFFF;\n",
              "    }\n",
              "  </style>\n",
              "\n",
              "      <script>\n",
              "        const buttonEl =\n",
              "          document.querySelector('#df-1563244e-6483-4875-b93a-46e5bf214aea button.colab-df-convert');\n",
              "        buttonEl.style.display =\n",
              "          google.colab.kernel.accessAllowed ? 'block' : 'none';\n",
              "\n",
              "        async function convertToInteractive(key) {\n",
              "          const element = document.querySelector('#df-1563244e-6483-4875-b93a-46e5bf214aea');\n",
              "          const dataTable =\n",
              "            await google.colab.kernel.invokeFunction('convertToInteractive',\n",
              "                                                     [key], {});\n",
              "          if (!dataTable) return;\n",
              "\n",
              "          const docLinkHtml = 'Like what you see? Visit the ' +\n",
              "            '<a target=\"_blank\" href=https://colab.research.google.com/notebooks/data_table.ipynb>data table notebook</a>'\n",
              "            + ' to learn more about interactive tables.';\n",
              "          element.innerHTML = '';\n",
              "          dataTable['output_type'] = 'display_data';\n",
              "          await google.colab.output.renderOutput(dataTable, element);\n",
              "          const docLink = document.createElement('div');\n",
              "          docLink.innerHTML = docLinkHtml;\n",
              "          element.appendChild(docLink);\n",
              "        }\n",
              "      </script>\n",
              "    </div>\n",
              "  </div>\n",
              "  "
            ]
          },
          "metadata": {},
          "execution_count": 142
        }
      ]
    },
    {
      "cell_type": "markdown",
      "source": [
        "To evaluate the model let's first use the R2 score which indicates the level of correlation between the predicted value and the actual value."
      ],
      "metadata": {
        "id": "DZdWBQDaqXJc"
      }
    },
    {
      "cell_type": "code",
      "source": [
        "accuracy_LR_train = metrics.r2_score(Y_train, y_train_pred)\n",
        "print(\"R2 De entrenamiento para el modelo de regresion\", accuracy_LR_train)\n",
        "\n",
        "accuracy_LR_test = metrics.r2_score(Y_test, y_test_pred)\n",
        "print(\"R2 De prueba para el modelo de regresion\", accuracy_LR_test)"
      ],
      "metadata": {
        "colab": {
          "base_uri": "https://localhost:8080/"
        },
        "id": "odNe6X2zJZE2",
        "outputId": "2283992f-ac41-45a5-dc52-66e7b231a258"
      },
      "execution_count": null,
      "outputs": [
        {
          "output_type": "stream",
          "name": "stdout",
          "text": [
            "R2 De entrenamiento para el modelo de regresion 0.9930609621832346\n",
            "R2 De prueba para el modelo de regresion 0.9933138774677994\n"
          ]
        }
      ]
    },
    {
      "cell_type": "markdown",
      "source": [
        "As a second metric the RMSE or root mean square error indicates the difference between the actual value and the predicted value."
      ],
      "metadata": {
        "id": "C4ew44zMsLPB"
      }
    },
    {
      "cell_type": "code",
      "source": [
        "RMSE_LR_train = sqrt(metrics.mean_squared_error(Y_train, y_train_pred))\n",
        "print(\"RMSE para los datos de entrenamiento\", RMSE_LR_train)\n",
        "\n",
        "RMSE_LR_test = sqrt(metrics.mean_squared_error(Y_test, y_test_pred))\n",
        "print(\"RMSE para los datos de prueba\", RMSE_LR_test)"
      ],
      "metadata": {
        "colab": {
          "base_uri": "https://localhost:8080/"
        },
        "id": "0dlXT-mRJ_rw",
        "outputId": "c0e667f3-4ac2-40fa-a3d2-624bc2601c2c"
      },
      "execution_count": null,
      "outputs": [
        {
          "output_type": "stream",
          "name": "stdout",
          "text": [
            "RMSE para los datos de entrenamiento 4.416705704462956\n",
            "RMSE para los datos de prueba 4.3759138142242655\n"
          ]
        }
      ]
    },
    {
      "cell_type": "markdown",
      "source": [
        "## Conclusión"
      ],
      "metadata": {
        "id": "7CAX5CPMtFl8"
      }
    },
    {
      "cell_type": "markdown",
      "source": [
        "The result obtained is quite good, both for the training and test data the model behaves well, if one wants to predict future data it is certain that it will not have a very large variation, although with investments there can always be external circumstances that can drastically change the value of the stocks."
      ],
      "metadata": {
        "id": "KlUH7EDmtJiL"
      }
    }
  ]
}